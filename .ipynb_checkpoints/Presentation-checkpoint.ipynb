{
 "cells": [
  {
   "cell_type": "markdown",
   "metadata": {
    "slideshow": {
     "slide_type": "slide"
    }
   },
   "source": [
    "# What Makes a Good Song?"
   ]
  },
  {
   "cell_type": "markdown",
   "metadata": {
    "slideshow": {
     "slide_type": "slide"
    }
   },
   "source": [
    "# Goals of Our Project\n",
    "1. To create an algorithm that can read in a song and judge whether or not it will be popular\n",
    "2. Determine what factors make a song good\n",
    "3. Create a dataframe to analyze\n",
    "4. Find rating system that already exists and analyze it in comparison to ours\n",
    "5. Create a better rating system"
   ]
  },
  {
   "cell_type": "markdown",
   "metadata": {
    "slideshow": {
     "slide_type": "subslide"
    }
   },
   "source": [
    "# Our Process\n",
    "1. Vamp Audio Analysis Plugin\n",
    "2. Sonic Annotator\n",
    "3. Spotify API\n",
    "4. Creating Datasets\n",
    "5. Analyzing Data frames"
   ]
  },
  {
   "cell_type": "markdown",
   "metadata": {
    "slideshow": {
     "slide_type": "subslide"
    }
   },
   "source": [
    "# What We Discovered\n",
    "\n",
    "**Our model was a more accurate predictor of a song's popularity than Spotify**"
   ]
  },
  {
   "cell_type": "markdown",
   "metadata": {
    "slideshow": {
     "slide_type": "skip"
    }
   },
   "source": [
    "# Table of Contents\n",
    "1. [Transforming MP3 Files into .wav files](#transformation)\n",
    "2. [Reading .wav files with Librosa and analyzing with Vampy](#Vamp)\n",
    "3. [Sonic Annotator](#Sonic)\n",
    "4. [Spotify API Analysis](#Spotipy)\n",
    "5. [Data Analaysis](#Data)\n",
    "5. [Creating a new model based off Vamp data](#New)"
   ]
  },
  {
   "cell_type": "markdown",
   "metadata": {
    "slideshow": {
     "slide_type": "skip"
    }
   },
   "source": [
    "# Required Packages \n",
    ">Run the following cell to import the required packages:"
   ]
  },
  {
   "cell_type": "code",
   "execution_count": 1,
   "metadata": {
    "slideshow": {
     "slide_type": "skip"
    }
   },
   "outputs": [
    {
     "name": "stdout",
     "output_type": "stream",
     "text": [
      "\r\n"
     ]
    }
   ],
   "source": [
    "#All of the classic plugins to run data analysis and create dataframes\n",
    "import numpy as np\n",
    "import pandas as pd\n",
    "from os import path\n",
    "from sklearn.preprocessing import StandardScaler\n",
    "import matplotlib.pyplot as plt\n",
    "from collections import Counter\n",
    "from scipy import linalg\n",
    "\n",
    "#Plugins that allow us to listen to a song and pull data from that specific song ; includes notes, \n",
    "import librosa\n",
    "from pydub import AudioSegment\n",
    "import vamp\n",
    "\n",
    "#All of the plugins used to pull data from Spotify and communicate with Spotify's API within Python\n",
    "import spotipy\n",
    "import spotipy.oauth2\n",
    "import spotipy.util as util\n",
    "import os\n",
    "\n",
    "#Reconfigures the path for Vamp plugins ; allows us to use plugins that are installed on the local computer\n",
    "! export VAMP_PATH=/Library/Audio/Plug-Ins/ \n",
    "! echo $VAMP_PATH"
   ]
  },
  {
   "cell_type": "markdown",
   "metadata": {
    "slideshow": {
     "slide_type": "skip"
    }
   },
   "source": [
    "Transforming MP3 Files into .WAV files\n",
    "---\n",
    "<a class=\"anchor\" id=\"transformation\"></a>\n",
    "\n",
    ">Below, we use the library for AudioSegment in order to source our .mp3 files and convert them into .wav files. Below, we ran an example in which we took Justin Beiber's song Yummy and converted it into a .wav file"
   ]
  },
  {
   "cell_type": "code",
   "execution_count": 2,
   "metadata": {
    "slideshow": {
     "slide_type": "skip"
    }
   },
   "outputs": [
    {
     "data": {
      "text/plain": [
       "<_io.BufferedRandom name='wav_Files/Yummy.wav'>"
      ]
     },
     "execution_count": 2,
     "metadata": {},
     "output_type": "execute_result"
    }
   ],
   "source": [
    "src = 'MP3_Files/Yummy.mp3'\n",
    "dst = 'wav_Files/Yummy.wav'\n",
    "\n",
    "Example_song = AudioSegment.from_mp3(src)\n",
    "Example_song.export(dst, format=\"wav\")"
   ]
  },
  {
   "cell_type": "markdown",
   "metadata": {
    "slideshow": {
     "slide_type": "slide"
    }
   },
   "source": [
    "Introduction to Vamp Plugins\n",
    "---\n",
    "<a class=\"anchor\" id=\"Vamp\"></a>\n",
    "\n",
    ">Vampy is a plugin that allows python to run Vamp. Now what is Vamp? Vamp is a open source music package that has individual plugins (installed into your local computer). These plugins allow you to read and analyze songs."
   ]
  },
  {
   "cell_type": "code",
   "execution_count": 3,
   "metadata": {
    "slideshow": {
     "slide_type": "skip"
    }
   },
   "outputs": [],
   "source": [
    "# Using librosa to create two new items named data and rate\n",
    "data, rate = librosa.load('wav_Files/Yummy.wav')"
   ]
  },
  {
   "cell_type": "markdown",
   "metadata": {
    "slideshow": {
     "slide_type": "skip"
    }
   },
   "source": [
    "To see what plugins can be utilized by Vampy the following command is run:"
   ]
  },
  {
   "cell_type": "code",
   "execution_count": 4,
   "metadata": {
    "slideshow": {
     "slide_type": "subslide"
    }
   },
   "outputs": [
    {
     "name": "stdout",
     "output_type": "stream",
     "text": [
      "['bbc-vamp-plugins:bbc-energy', 'bbc-vamp-plugins:bbc-intensity', 'bbc-vamp-plugins:bbc-peaks', 'bbc-vamp-plugins:bbc-rhythm', 'bbc-vamp-plugins:bbc-spectral-contrast', 'bbc-vamp-plugins:bbc-spectral-flux', 'bbc-vamp-plugins:bbc-speechmusic-segmenter', 'beatroot-vamp:beatroot', 'nnls-chroma:chordino', 'nnls-chroma:nnls-chroma', 'nnls-chroma:tuning', 'silvet:silvet']\n"
     ]
    }
   ],
   "source": [
    "#Below are all the plugins that are currently installed on the local computer and are able to be run. \n",
    "print(vamp.list_plugins())"
   ]
  },
  {
   "cell_type": "code",
   "execution_count": 5,
   "metadata": {
    "slideshow": {
     "slide_type": "skip"
    }
   },
   "outputs": [],
   "source": [
    "# chroma = vamp.collect(data, rate, \"silvet:silvet\")\n",
    "# stepsize, chromadata = chroma[\"matrix\"]\n",
    "# plt.imshow(chromadata)"
   ]
  },
  {
   "cell_type": "code",
   "execution_count": 6,
   "metadata": {
    "slideshow": {
     "slide_type": "skip"
    }
   },
   "outputs": [],
   "source": [
    "# Beat = vamp.collect(data, rate, \"beatroot-vamp:beatroot\")\n",
    "# Chord = vamp.collect(data, rate, \"nnls-chroma:chordino\")"
   ]
  },
  {
   "cell_type": "markdown",
   "metadata": {
    "slideshow": {
     "slide_type": "slide"
    }
   },
   "source": [
    "Sonic Annotator\n",
    "---\n",
    "<a class=\"anchor\" id=\"Sonic\"></a>\n",
    "\n",
    ">Sonic Annotator is a command line program for batch extraction of audio features from multiple audio files. The basic idea is to abstract out the process of doing the feature extraction from the extraction methods, by using Vamp plugins for feature extraction. The output format is .csv or .txt."
   ]
  },
  {
   "cell_type": "markdown",
   "metadata": {
    "slideshow": {
     "slide_type": "subslide"
    }
   },
   "source": [
    "The following line refers to the command line program (sonnic annotator) and allows us to see all the plugins installed under vamp that are able to be run by sonic. "
   ]
  },
  {
   "cell_type": "code",
   "execution_count": 7,
   "metadata": {},
   "outputs": [],
   "source": [
    "# ! /Users/ethandinh/Library/Audio/Plug-Ins/Vamp/sonic-annotator -l"
   ]
  },
  {
   "cell_type": "code",
   "execution_count": 8,
   "metadata": {
    "slideshow": {
     "slide_type": "subslide"
    }
   },
   "outputs": [],
   "source": [
    "! /Users/ethandinh/Library/Audio/Plug-Ins/Vamp/sonic-annotator -d vamp:bbc-vamp-plugins:bbc-rhythm:tempo --recursive /Users/ethandinh/Desktop/Machine\\ Learning/Final_Project\\ /MP3_Files -w csv --csv-stdout > Tempo\n",
    "! /Users/ethandinh/Library/Audio/Plug-Ins/Vamp/sonic-annotator -d vamp:silvet:silvet:notes --recursive /Users/ethandinh/Desktop/Machine\\ Learning/Final_Project\\ /MP3_Files -w csv --csv-stdout > Notes"
   ]
  },
  {
   "cell_type": "markdown",
   "metadata": {
    "slideshow": {
     "slide_type": "slide"
    }
   },
   "source": [
    "# Analysis of Our Data Using Vamp\n",
    ">Through Sonic Annotator, the data collected from the songs by vamp was stored in a text file. So, we created functions that would allow us to read in the text file and analyze it to pull the useful features and put them into a data frame."
   ]
  },
  {
   "cell_type": "code",
   "execution_count": 9,
   "metadata": {
    "slideshow": {
     "slide_type": "subslide"
    }
   },
   "outputs": [],
   "source": [
    "def get_beat(file):\n",
    "    with open(file) as f:\n",
    "        beats = {}\n",
    "        for line in f:\n",
    "            beats[line.strip().split(',')[0][68:-5]] = float(line.strip().split(',')[2][:7])\n",
    "    return beats\n",
    "songs = []\n",
    "beat = []\n",
    "for key, value in get_beat('Tempo').items():\n",
    "    songs.append(key)\n",
    "    beat.append(value)\n",
    "\n",
    "Tempo = pd.DataFrame({'Names' : songs, 'bpm' : beat})\n",
    "Tempo = Tempo.set_index('Names')"
   ]
  },
  {
   "cell_type": "code",
   "execution_count": 10,
   "metadata": {
    "slideshow": {
     "slide_type": "skip"
    }
   },
   "outputs": [],
   "source": [
    "def get_chroma(file):\n",
    "    with open(file) as f:\n",
    "        name = ''\n",
    "        matrix = []\n",
    "        places = []\n",
    "        count = 0\n",
    "        for line in f:\n",
    "            matrix.append(line.strip().split(','))\n",
    "            if type(line.strip().split(',')[0]) is str:\n",
    "                places.append(count)\n",
    "            count += 1\n",
    "        name = matrix[0][0][58:-1]\n",
    "        new_mat = pd.DataFrame(matrix)\n",
    "        new_mats = np.split(new_mat, places, axis = 0)\n",
    "        return new_mats\n",
    "\n",
    "mats = get_chroma('Matrix')"
   ]
  },
  {
   "cell_type": "code",
   "execution_count": 40,
   "metadata": {
    "slideshow": {
     "slide_type": "subslide"
    }
   },
   "outputs": [],
   "source": [
    "def get_notes(file):\n",
    "    '''This function reads in a file that contains information about every note in every song, and returns a list containing lists of each song and the important features of the notes in them. The features it returns are the song name, the number of notes, the frequency of notes, the average length of the note, the average frequency (hz), the standard deviation of notes (hz), the most common note (hz), and how often the most common note occurs.'''\n",
    "    with open(file) as f:\n",
    "        songs = []\n",
    "        for line in f:\n",
    "            if 'Users' in line.strip().split(',')[0]:\n",
    "                songs.append([])\n",
    "            songs[-1].append(line.strip().split(','))\n",
    "        song_data = []\n",
    "        for song in songs:\n",
    "            number_notes = len(song)\n",
    "            freq_notes = len(song)/float(song[-1][1])\n",
    "            song_name = song[0][0][68:-5]\n",
    "            htz_list = []\n",
    "            length_list = []\n",
    "            for element in song:\n",
    "                length_list.append(float(element[2]))\n",
    "                htz_list.append(float(element[3]))\n",
    "            avg_length = np.mean(length_list)\n",
    "            avg_htz = np.mean(htz_list)\n",
    "            most_common_note = Counter(htz_list).most_common()[0]\n",
    "            std_htz = np.std(htz_list)\n",
    "            song_data.append([song_name, number_notes, freq_notes, avg_length, avg_htz, std_htz, most_common_note[0], most_common_note[1]])\n",
    "        return song_data\n",
    "    "
   ]
  },
  {
   "cell_type": "code",
   "execution_count": 12,
   "metadata": {},
   "outputs": [],
   "source": [
    "Notes = pd.DataFrame(get_notes('Notes'))\n",
    "Notes = Notes.rename(columns = {0 : 'Names' , 1: 'Number Notes' , 2 : 'Frequent Notes', 3 : 'Average Length of Note', 4 : 'Average Htz' , 5 : 'Standard Deviation of Htz' , 6 : 'Most Common Note' , 7 : 'Most Common Note'})\n",
    "Notes = Notes.set_index('Names')\n"
   ]
  },
  {
   "cell_type": "markdown",
   "metadata": {
    "slideshow": {
     "slide_type": "slide"
    }
   },
   "source": [
    "Spotify API Analysis\n",
    "---\n",
    "<a class=\"anchor\" id=\"Spotipy\"></a>\n",
    ">Spotipy is a jupyter notebook package that allows python to communicate with the spotify API"
   ]
  },
  {
   "cell_type": "code",
   "execution_count": 3,
   "metadata": {
    "slideshow": {
     "slide_type": "subslide"
    }
   },
   "outputs": [],
   "source": [
    "scope = 'user-library-read'\n",
    "token = util.prompt_for_user_token('ethan.dinh',scope,client_id='bd4a55649bd242cb94ceadaf98c1ff21',client_secret='67d9d6c64d024428a93bbd8f669b503f',redirect_uri='http://localhost:8888/notebooks/Final_Project%20/Music%20reader%20experiments.ipynb')\n",
    "sp = spotipy.Spotify(auth=token)\n",
    "\n",
    "playlist_id = 'spotify:playlist:37i9dQZEVXbMDoHDwVN2tF'\n",
    "results = sp.playlist(playlist_id)\n",
    "\n",
    "names = []\n",
    "for entry in results['tracks']['items']:\n",
    "    names.append(entry['track']['name'])\n",
    "    \n",
    "tracks = []\n",
    "for entry in results['tracks']['items']:\n",
    "    tracks.append(entry['track']['uri'])\n",
    "    \n",
    "ratings = []\n",
    "for entry in results['tracks']['items']:\n",
    "    ratings.append(entry['track']['popularity'])\n",
    "    \n",
    "analysis = []\n",
    "for i in range(len(tracks)):\n",
    "    analysis.append(sp.audio_features(tracks[i]))\n",
    "    \n",
    "popularity = pd.DataFrame({'rating':ratings, 'Names':names})\n",
    "popularity = popularity.set_index('Names')\n",
    "popularity = popularity.rename(index={'Sunflower - Spider-Man: Into the Spider-Verse': 'Sunflower'})"
   ]
  },
  {
   "cell_type": "code",
   "execution_count": 6,
   "metadata": {
    "slideshow": {
     "slide_type": "skip"
    }
   },
   "outputs": [],
   "source": [
    "ana = pd.DataFrame(analysis[0])\n",
    "Df = pd.DataFrame(analysis[0])\n",
    "for i in range(1,50):\n",
    "    ana = ana.append(pd.DataFrame(analysis[i]))\n",
    "    \n",
    "for i in range(1,50):\n",
    "    Df = Df.append(pd.DataFrame(analysis[i]))"
   ]
  },
  {
   "cell_type": "code",
   "execution_count": 7,
   "metadata": {
    "slideshow": {
     "slide_type": "skip"
    }
   },
   "outputs": [],
   "source": [
    "my_list = []\n",
    "for song in analysis:\n",
    "    my_list.append(song[0]['tempo'])"
   ]
  },
  {
   "cell_type": "code",
   "execution_count": 8,
   "metadata": {
    "slideshow": {
     "slide_type": "skip"
    }
   },
   "outputs": [],
   "source": [
    "ana['Names'] = names\n",
    "ana = ana.set_index('Names')\n",
    "ana = ana.drop(columns = ['type', 'id', 'uri', 'track_href', 'analysis_url'])\n",
    "ana = ana.rename(index={'Sunflower - Spider-Man: Into the Spider-Verse': 'Sunflower'})\n",
    "ana.to_csv('Spotify.csv')"
   ]
  },
  {
   "cell_type": "markdown",
   "metadata": {
    "slideshow": {
     "slide_type": "slide"
    }
   },
   "source": [
    "Results from Spotify's Data\n",
    "---\n",
    "<a class=\"anchor\" id=\"Data\"></a>\n"
   ]
  },
  {
   "cell_type": "markdown",
   "metadata": {
    "slideshow": {
     "slide_type": "skip"
    }
   },
   "source": [
    "Scales the dataframe to ensure that the weight is unaffected by the size of the values"
   ]
  },
  {
   "cell_type": "code",
   "execution_count": 9,
   "metadata": {
    "slideshow": {
     "slide_type": "skip"
    }
   },
   "outputs": [],
   "source": [
    "scaler = StandardScaler()\n",
    "scaler.fit(ana)\n",
    "rank = []\n",
    "for i in range(1,51):\n",
    "    rank.append(i)"
   ]
  },
  {
   "cell_type": "markdown",
   "metadata": {
    "slideshow": {
     "slide_type": "skip"
    }
   },
   "source": [
    "### The following creates a model to predict the rank of the song on Spotify's Global Top 50:"
   ]
  },
  {
   "cell_type": "code",
   "execution_count": 10,
   "metadata": {
    "slideshow": {
     "slide_type": "skip"
    }
   },
   "outputs": [
    {
     "name": "stdout",
     "output_type": "stream",
     "text": [
      "(50, 13) (50, 1)\n"
     ]
    }
   ],
   "source": [
    "A=np.matrix(ana)\n",
    "b=np.matrix(rank)\n",
    "b = b.T\n",
    "X=linalg.inv(A.T*A)*(A.T)*b\n",
    "print(A.shape, b.shape)"
   ]
  },
  {
   "cell_type": "markdown",
   "metadata": {
    "slideshow": {
     "slide_type": "skip"
    }
   },
   "source": [
    "Prints the weight of each catagory (Both positve and negative)"
   ]
  },
  {
   "cell_type": "code",
   "execution_count": 11,
   "metadata": {
    "slideshow": {
     "slide_type": "subslide"
    }
   },
   "outputs": [
    {
     "name": "stdout",
     "output_type": "stream",
     "text": [
      "(57.25661766127398, 'energy')\n",
      "(4.789560298800188, 'speechiness')\n",
      "(1.8966001313496945, 'acousticness')\n",
      "(1.73007626527779e-05, 'duration_ms')\n",
      "(-0.17840419153423775, 'tempo')\n",
      "(-0.4682097678010537, 'time_signature')\n",
      "(-0.5817481383316866, 'key')\n",
      "(-1.5490537938695113, 'mode')\n",
      "(-1.6234637529776341, 'valence')\n",
      "(-2.6986582842706444, 'danceability')\n",
      "(-3.0396752452747404, 'loudness')\n",
      "(-13.519814845679399, 'liveness')\n",
      "(-32.78740209408545, 'instrumentalness')\n"
     ]
    }
   ],
   "source": [
    "categories = ana.columns                           # column names\n",
    "\n",
    "tuples = []                                        # create tuples containing the category weights and names\n",
    "for i in range(len(categories)):\n",
    "    tuples.append((X[i][0,0], categories[i]))\n",
    "    \n",
    "tuples.sort(reverse = True)                        # sort in decending order\n",
    "\n",
    "for i in range(len(categories)):                   # print the output\n",
    "    print(tuples[i])"
   ]
  },
  {
   "cell_type": "markdown",
   "metadata": {
    "slideshow": {
     "slide_type": "skip"
    }
   },
   "source": [
    "Testing whether the scaling would help decrease the range in weights of each catagory"
   ]
  },
  {
   "cell_type": "code",
   "execution_count": 12,
   "metadata": {
    "slideshow": {
     "slide_type": "skip"
    }
   },
   "outputs": [],
   "source": [
    "A_scaled = np.matrix(scaler.transform(ana))"
   ]
  },
  {
   "cell_type": "code",
   "execution_count": 13,
   "metadata": {
    "slideshow": {
     "slide_type": "skip"
    }
   },
   "outputs": [
    {
     "name": "stdout",
     "output_type": "stream",
     "text": [
      "(4.963178588732595, 'energy')\n",
      "(1.0530186110950053, 'speechiness')\n",
      "(0.7257366443834394, 'duration_ms')\n",
      "(-0.7837598957340253, 'valence')\n",
      "(-0.848914494735606, 'acousticness')\n",
      "(-1.4920739544201198, 'danceability')\n",
      "(-1.613475534473666, 'time_signature')\n",
      "(-1.8369483454248998, 'mode')\n",
      "(-1.899084545657, 'instrumentalness')\n",
      "(-2.259500709432605, 'key')\n",
      "(-2.509520104314806, 'liveness')\n",
      "(-3.3806453608547713, 'loudness')\n",
      "(-5.351929598823899, 'tempo')\n"
     ]
    }
   ],
   "source": [
    "X_scaled=linalg.inv(A_scaled.T*A_scaled)*(A_scaled.T)*b\n",
    "\n",
    "categories = ana.columns                             # column names\n",
    "\n",
    "tuples = []                                          # create tuples containing the category weights and names\n",
    "for i in range(len(categories)):\n",
    "    tuples.append((X_scaled[i][0,0], categories[i]))\n",
    "    \n",
    "tuples.sort(reverse = True)                          # sort in decending order\n",
    "\n",
    "for i in range(len(categories)):                     # print the output\n",
    "    print(tuples[i])"
   ]
  },
  {
   "cell_type": "code",
   "execution_count": 16,
   "metadata": {
    "slideshow": {
     "slide_type": "subslide"
    }
   },
   "outputs": [
    {
     "name": "stdout",
     "output_type": "stream",
     "text": [
      "What is the title of your song (Should match Spotify)? BOP\n",
      "Estimated rank of your song: -3\n"
     ]
    }
   ],
   "source": [
    "song_title = input(\"What is the title of your song (Should match Spotify)? \")\n",
    "dancem = ana.loc[[song_title]]\n",
    "dancem = scaler.transform(dancem)   \n",
    "dancem = np.matrix(dancem)\n",
    "projection_scaled = dancem*X_scaled\n",
    "print('Estimated rank of your song:',int(projection_scaled))"
   ]
  },
  {
   "cell_type": "code",
   "execution_count": 15,
   "metadata": {
    "slideshow": {
     "slide_type": "subslide"
    }
   },
   "outputs": [
    {
     "name": "stdout",
     "output_type": "stream",
     "text": [
      "Average Absolute Prediction Error: 11.205592217271523\n"
     ]
    }
   ],
   "source": [
    "error = 0\n",
    "for i in range(len(A)):\n",
    "    projection = A[i][:]*X\n",
    "    newerror = abs(projection[0,0] - b[i,0])\n",
    "    error = error + newerror\n",
    "    \n",
    "print('Average Absolute Prediction Error:', error/len(A))"
   ]
  },
  {
   "cell_type": "markdown",
   "metadata": {
    "slideshow": {
     "slide_type": "slide"
    }
   },
   "source": [
    "# Predicting the popularity rating of a song on Spotify's Global Top 50"
   ]
  },
  {
   "cell_type": "code",
   "execution_count": 17,
   "metadata": {
    "slideshow": {
     "slide_type": "skip"
    }
   },
   "outputs": [
    {
     "name": "stdout",
     "output_type": "stream",
     "text": [
      "(50, 13) (50, 1)\n"
     ]
    }
   ],
   "source": [
    "A=np.matrix(ana)\n",
    "b_1=np.matrix(ratings)\n",
    "b_1 = b_1.T\n",
    "X_1=linalg.inv(A.T*A)*(A.T)*b_1\n",
    "print(A.shape, b_1.shape)"
   ]
  },
  {
   "cell_type": "markdown",
   "metadata": {
    "slideshow": {
     "slide_type": "skip"
    }
   },
   "source": [
    "Prints the weight of each catagory (Both positve and negative)"
   ]
  },
  {
   "cell_type": "code",
   "execution_count": 18,
   "metadata": {
    "slideshow": {
     "slide_type": "subslide"
    }
   },
   "outputs": [
    {
     "name": "stdout",
     "output_type": "stream",
     "text": [
      "(23.1779183416848, 'energy')\n",
      "(20.828437226731623, 'danceability')\n",
      "(12.128604628021463, 'liveness')\n",
      "(7.052447541855193, 'time_signature')\n",
      "(6.365708785147255, 'valence')\n",
      "(6.05304642525466, 'mode')\n",
      "(4.347300052806061, 'acousticness')\n",
      "(0.3764474423929838, 'key')\n",
      "(0.15605308998560943, 'tempo')\n",
      "(-3.683383608261135e-05, 'duration_ms')\n",
      "(-1.8149561326090407, 'instrumentalness')\n",
      "(-1.939499555009966, 'loudness')\n",
      "(-7.907393073962467, 'speechiness')\n"
     ]
    }
   ],
   "source": [
    "categories = ana.columns                           # column names\n",
    "\n",
    "tuples = []                                        # create tuples containing the category weights and names\n",
    "for i in range(len(categories)):\n",
    "    tuples.append((X_1[i][0,0], categories[i]))\n",
    "    \n",
    "tuples.sort(reverse = True)                        # sort in decending order\n",
    "\n",
    "for i in range(len(categories)):                   # print the output\n",
    "    print(tuples[i])"
   ]
  },
  {
   "cell_type": "code",
   "execution_count": 19,
   "metadata": {
    "slideshow": {
     "slide_type": "subslide"
    }
   },
   "outputs": [
    {
     "name": "stdout",
     "output_type": "stream",
     "text": [
      "What is the title of your song (Should match Spotify)? BOP\n",
      "The Popularity of your song is: 98\n",
      "The true rating: 93\n"
     ]
    }
   ],
   "source": [
    "song_title = input(\"What is the title of your song (Should match Spotify)? \")\n",
    "dancem = ana.loc[[song_title]]\n",
    "dancem = np.matrix(dancem)\n",
    "\n",
    "projection = dancem*X_1\n",
    "print('The Popularity of your song is:',int(projection))\n",
    "print('The true rating:', int(popularity.loc[song_title]))"
   ]
  },
  {
   "cell_type": "code",
   "execution_count": 22,
   "metadata": {
    "slideshow": {
     "slide_type": "subslide"
    }
   },
   "outputs": [
    {
     "name": "stdout",
     "output_type": "stream",
     "text": [
      "What is the title of your song (Should match Spotify)? Love Yourself\n",
      "The estimated popularity of your song is: 90\n",
      "The true rating: 82\n"
     ]
    }
   ],
   "source": [
    "song_title = input(\"What is the title of your song (Should match Spotify)? \")\n",
    "Uri = sp.search(q=[song_title], type = 'track', limit = 1)\n",
    "name_1 = []\n",
    "for entry in Uri['tracks']['items']:\n",
    "    name_1.append(entry['uri'])\n",
    "    \n",
    "for entry in Uri['tracks']['items']:\n",
    "    pop = entry['popularity']\n",
    "    \n",
    "data_temp = sp.audio_features(name_1)\n",
    "data_temp = pd.DataFrame(data_temp)\n",
    "data_temp = data_temp.drop(columns = ['type', 'id', 'uri', 'track_href', 'analysis_url'])\n",
    "\n",
    "dancem = data_temp  \n",
    "dancem = np.matrix(dancem)\n",
    "projection_new = dancem*X_1\n",
    "print('The estimated popularity of your song is:',int(projection_new))\n",
    "print('The true rating:', pop)"
   ]
  },
  {
   "cell_type": "code",
   "execution_count": 23,
   "metadata": {
    "slideshow": {
     "slide_type": "subslide"
    }
   },
   "outputs": [
    {
     "name": "stdout",
     "output_type": "stream",
     "text": [
      "Average Absolute Prediction Error: 5.38295817500263\n"
     ]
    }
   ],
   "source": [
    "error = 0\n",
    "for i in range(len(A)):\n",
    "    projection = A[i][:]*X_1\n",
    "    newerror = abs(projection[0,0] - b_1[i,0])\n",
    "    error = error + newerror\n",
    "    \n",
    "print('Average Absolute Prediction Error:', error/len(A))"
   ]
  },
  {
   "cell_type": "markdown",
   "metadata": {
    "slideshow": {
     "slide_type": "slide"
    }
   },
   "source": [
    "Creating a new model based off Vamp data\n",
    "---\n",
    "<a class=\"anchor\" id=\"New\"></a>"
   ]
  },
  {
   "cell_type": "code",
   "execution_count": 31,
   "metadata": {
    "slideshow": {
     "slide_type": "skip"
    }
   },
   "outputs": [],
   "source": [
    "NewANA = ana.merge(Notes, left_index = True, right_index = True)"
   ]
  },
  {
   "cell_type": "code",
   "execution_count": 32,
   "metadata": {
    "slideshow": {
     "slide_type": "skip"
    }
   },
   "outputs": [],
   "source": [
    "NewANA = NewANA.drop(columns = (['danceability', 'energy', 'loudness', 'mode', 'speechiness', 'acousticness', 'instrumentalness', 'liveness', 'valence', 'tempo']))\n"
   ]
  },
  {
   "cell_type": "code",
   "execution_count": 33,
   "metadata": {
    "slideshow": {
     "slide_type": "skip"
    }
   },
   "outputs": [],
   "source": [
    "NewANA = NewANA.sort_index()\n",
    "popularity = popularity.sort_index()\n",
    "popularity_list = popularity['rating'].values.tolist()"
   ]
  },
  {
   "cell_type": "code",
   "execution_count": 34,
   "metadata": {
    "slideshow": {
     "slide_type": "skip"
    }
   },
   "outputs": [
    {
     "name": "stdout",
     "output_type": "stream",
     "text": [
      "(50, 10) (50, 1)\n"
     ]
    }
   ],
   "source": [
    "A_new = np.matrix(NewANA)\n",
    "b_new=np.matrix(popularity_list)\n",
    "b_new = b_new.T\n",
    "X_new=linalg.inv(A_new.T*A_new)*(A_new.T)*b_new\n",
    "print(A_new.shape, b_new.shape)"
   ]
  },
  {
   "cell_type": "code",
   "execution_count": 35,
   "metadata": {
    "slideshow": {
     "slide_type": "subslide"
    }
   },
   "outputs": [
    {
     "name": "stdout",
     "output_type": "stream",
     "text": [
      "(62.671211105070256, 'Average Length of Note')\n",
      "(10.14723994925517, 'Frequent Notes')\n",
      "(1.3040152514846177, 'time_signature')\n",
      "(0.553463819117075, 'key')\n",
      "(0.05093160869888281, 'Average Htz')\n",
      "(0.005351438087299862, 'Most Common Note')\n",
      "(8.38831033840526e-05, 'duration_ms')\n",
      "(-0.013426779509758388, 'Number Notes')\n",
      "(-0.01386938315184956, 'Standard Deviation of Htz')\n",
      "(-0.02561054246682852, 'Most Common Note')\n"
     ]
    }
   ],
   "source": [
    "categories = NewANA.columns                           # column names\n",
    "\n",
    "tuples = []                                        # create tuples containing the category weights and names\n",
    "for i in range(len(categories)):\n",
    "    tuples.append((X_new[i][0,0], categories[i]))\n",
    "    \n",
    "tuples.sort(reverse = True)                        # sort in decending order\n",
    "\n",
    "for i in range(len(categories)):                   # print the output\n",
    "    print(tuples[i])"
   ]
  },
  {
   "cell_type": "code",
   "execution_count": 36,
   "metadata": {
    "slideshow": {
     "slide_type": "subslide"
    }
   },
   "outputs": [
    {
     "name": "stdout",
     "output_type": "stream",
     "text": [
      "What is the title of your song (Should match Spotify)? BOP\n",
      "The Popularity of your song is: 89\n",
      "The true rating: 93\n"
     ]
    }
   ],
   "source": [
    "song_title = input(\"What is the title of your song (Should match Spotify)? \")\n",
    "dancem = NewANA.loc[[song_title]]\n",
    "dancem = np.matrix(dancem)\n",
    "\n",
    "projection = dancem*X_new\n",
    "print('The Popularity of your song is:',int(projection))\n",
    "print('The true rating:', int(popularity.loc[song_title]))"
   ]
  },
  {
   "cell_type": "code",
   "execution_count": 37,
   "metadata": {
    "slideshow": {
     "slide_type": "subslide"
    }
   },
   "outputs": [
    {
     "name": "stdout",
     "output_type": "stream",
     "text": [
      "Average Absolute Prediction Error: 5.031142342494794\n"
     ]
    }
   ],
   "source": [
    "error = 0\n",
    "for i in range(len(A_new)):\n",
    "    projection = A_new[i][:]*X_new\n",
    "    newerror = abs(projection[0,0] - b_new[i,0])\n",
    "    error = error + newerror\n",
    "    \n",
    "print('Average Absolute Prediction Error:', error/len(A_new))"
   ]
  }
 ],
 "metadata": {
  "celltoolbar": "Slideshow",
  "kernelspec": {
   "display_name": "Python 3",
   "language": "python",
   "name": "python3"
  },
  "language_info": {
   "codemirror_mode": {
    "name": "ipython",
    "version": 3
   },
   "file_extension": ".py",
   "mimetype": "text/x-python",
   "name": "python",
   "nbconvert_exporter": "python",
   "pygments_lexer": "ipython3",
   "version": "3.7.4"
  }
 },
 "nbformat": 4,
 "nbformat_minor": 2
}
